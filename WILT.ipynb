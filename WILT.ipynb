{
 "cells": [
  {
   "cell_type": "markdown",
   "id": "427b1926",
   "metadata": {},
   "source": [
    "# WILT"
   ]
  },
  {
   "cell_type": "markdown",
   "id": "3cf6eefd",
   "metadata": {},
   "source": [
    "Import of necessary modules"
   ]
  },
  {
   "cell_type": "code",
   "execution_count": 89,
   "id": "5e57b50d",
   "metadata": {
    "ExecuteTime": {
     "end_time": "2023-09-12T12:53:24.155229600Z",
     "start_time": "2023-09-12T12:53:24.072847Z"
    }
   },
   "outputs": [],
   "source": [
    "import numpy as np\n",
    "import tkinter as tk\n",
    "from tkinter import filedialog\n",
    "from tkinter import ttk\n",
    "from tkcalendar import Calendar\n",
    "import pandas as pd\n",
    "import matplotlib.pyplot as plt"
   ]
  },
  {
   "cell_type": "markdown",
   "id": "bc0e94e6",
   "metadata": {},
   "source": [
    "Ask the user for the number of days to calculate"
   ]
  },
  {
   "cell_type": "markdown",
   "id": "5f17d791",
   "metadata": {},
   "source": [
    "Constants"
   ]
  },
  {
   "cell_type": "code",
   "execution_count": 90,
   "id": "456c1c53",
   "metadata": {
    "ExecuteTime": {
     "end_time": "2023-09-12T12:53:24.204620Z",
     "start_time": "2023-09-12T12:53:24.082063300Z"
    }
   },
   "outputs": [],
   "source": [
    "rho_w = 1  # Density of water g/cm^3\n",
    "C_w = 4.18  # Specific heat capacity J/(g*K)\n",
    "epsilon = 0.96\n",
    "kelvin =  273.15"
   ]
  },
  {
   "cell_type": "markdown",
   "id": "55328b4b",
   "metadata": {},
   "source": [
    "Define the dimensions of the basin and the initial water temperature and volume"
   ]
  },
  {
   "cell_type": "code",
   "execution_count": 91,
   "id": "ef9527de",
   "metadata": {
    "ExecuteTime": {
     "end_time": "2023-09-12T12:53:38.733860300Z",
     "start_time": "2023-09-12T12:53:24.097753400Z"
    }
   },
   "outputs": [],
   "source": [
    "days = int(input(\"Enter the number of days to calculate: \"))\n",
    "basin_width = float(input(\"Width of the floodplain in meters\"))\n",
    "basin_length = float(input(\"Length of the floodplain in meters\"))\n",
    "current_water_level = float(input(\"The initial water level in meters\"))\n",
    "max_water_level = float(input(\"The maximal water level in meters\"))\n",
    "water_temp = float(input(\"The initial water temperature in degrees celcius\")) + kelvin\n",
    "current_basin_volume = basin_width * basin_length * current_water_level\n",
    "Max_basin_volume = basin_width * basin_length * max_water_level\n",
    "basin_surface_area = basin_width * basin_length"
   ]
  },
  {
   "cell_type": "code",
   "execution_count": 92,
   "id": "bab42203",
   "metadata": {
    "ExecuteTime": {
     "end_time": "2023-09-12T12:53:38.748646400Z",
     "start_time": "2023-09-12T12:53:38.733860300Z"
    }
   },
   "outputs": [
    {
     "name": "stdout",
     "output_type": "stream",
     "text": [
      "The current water level is 1.5 meters,\n",
      "The current water temperature is 288.15 °K,\n",
      "The surface area is 0.0015 km²,\n",
      "The volume is 2.25e-06 km³\n",
      "\n"
     ]
    }
   ],
   "source": [
    "initial_situ = \"The current water level is \" + str(current_water_level) + \" meters,\\n\" \\\n",
    "               \"The current water temperature is \" + str(water_temp) + \" °K,\\n\" \\\n",
    "               \"The surface area is \" + str(basin_surface_area/1e6) + \" km\\u00b2,\\n\"\\\n",
    "               \"The volume is \" + str(current_basin_volume/1e9) + \" km\\u00b3\\n\"\\\n",
    "\n",
    "print(initial_situ)"
   ]
  },
  {
   "cell_type": "markdown",
   "id": "760eb44c",
   "metadata": {},
   "source": [
    "Calculate the initial water level based on the volume and surface area of the basin"
   ]
  },
  {
   "cell_type": "code",
   "execution_count": 93,
   "id": "c8b881d8",
   "metadata": {
    "lines_to_next_cell": 2,
    "ExecuteTime": {
     "end_time": "2023-09-12T12:53:38.793833Z",
     "start_time": "2023-09-12T12:53:38.749799800Z"
    }
   },
   "outputs": [],
   "source": [
    "z_w = np.zeros(days)\n",
    "z_w[0] = current_water_level * 100# cm"
   ]
  },
  {
   "cell_type": "markdown",
   "id": "6c11b8dd",
   "metadata": {},
   "source": [
    "Initialize water surface temperature"
   ]
  },
  {
   "cell_type": "code",
   "execution_count": 94,
   "id": "e2fce2b3",
   "metadata": {
    "ExecuteTime": {
     "end_time": "2023-09-12T12:53:38.802933100Z",
     "start_time": "2023-09-12T12:53:38.766785Z"
    }
   },
   "outputs": [],
   "source": [
    "t_w = np.zeros(days)\n",
    "t_w[0] = water_temp  # Assign starting water temperature of 15 degrees\n",
    "t_w_C = np.zeros(days)\n",
    "t_w_C[0] = water_temp - kelvin"
   ]
  },
  {
   "cell_type": "markdown",
   "id": "26a11df8",
   "metadata": {
    "lines_to_next_cell": 2
   },
   "source": [
    "Define a function to get data from a CSV file or from user input"
   ]
  },
  {
   "cell_type": "code",
   "execution_count": 95,
   "id": "30411a68",
   "metadata": {
    "ExecuteTime": {
     "end_time": "2023-09-12T12:53:38.802933100Z",
     "start_time": "2023-09-12T12:53:38.793833Z"
    }
   },
   "outputs": [],
   "source": [
    "def get_data(filename_prompt, value_prompt, column_name):\n",
    "    if input(filename_prompt) == 'y':\n",
    "        # If the user wants to supply a CSV file, open a file dialog to select the file\n",
    "        root = tk.Tk()\n",
    "        root.withdraw()\n",
    "        root.call('wm', 'attributes', '.', '-topmost', True)\n",
    "        path = filedialog.askopenfilename()\n",
    "\n",
    "        # Read the data from the CSV file and set the column names\n",
    "        data = pd.read_csv(path, header=0, delimiter=\",\", usecols=[0, 1])\n",
    "        data.columns = ['Day', f'{column_name}']\n",
    "    else:\n",
    "        # If the user doesn't want to supply a CSV file, ask for a single value and\n",
    "        # create a DataFrame with that value for each day\n",
    "        value = float(input(value_prompt + \": \"))\n",
    "        data = pd.DataFrame({'Day': range(1, days + 1), f'{column_name}': [value] * days})\n",
    "    return data"
   ]
  },
  {
   "cell_type": "markdown",
   "id": "86edbdb2",
   "metadata": {},
   "source": [
    "Get the inflow, outflow, solar radiation, and outside temperature data"
   ]
  },
  {
   "cell_type": "code",
   "execution_count": 96,
   "id": "df775bac",
   "metadata": {
    "lines_to_next_cell": 2,
    "ExecuteTime": {
     "end_time": "2023-09-12T12:54:15.090685200Z",
     "start_time": "2023-09-12T12:53:38.798372900Z"
    }
   },
   "outputs": [],
   "source": [
    "# Get the inflow, outflow, solar radiation, and outside temperature data\n",
    "inflow_data = get_data(\"Do you want to supply an inflow(cm) CSV file? (y/n): \", \"Inflow\", \"Inflow(cm)\")\n",
    "outflow_data = get_data(\"Do you want to supply an outflow(cm) CSV file? (y/n): \", \"Outflow\", \"Outflow(cm)\")\n",
    "globrad_data = get_data(\"Do you want to supply an global radiation(J/cm^2*h) CSV file? (y/n): \", \"Globrad\", \"Global radiation (J/cm^2*h)\")\n",
    "T_L_data = get_data(\"Do you want to supply an Air temperature(°C) CSV file? (y/n): \", \"T_L\", \"Air temp (°C)\")\n",
    "mu_data = get_data(\"Do you want to supply a Wind velocity(m/s) CSV file? (y/n): \", \"mu\", \"Wind velocity (m/s)\")\n",
    "E_w_data = get_data(\"Do you want to supply a Saturation water vapor pressure(hPa) CSV file? (y/n): \", \"E_w\", \"Saturation water vapor pressure (hPa)\")\n",
    "e_L_data = get_data(\"Do you want to supply a Water vapor pressure(hPa) CSV file? (y/n): \", \"e_L\", \"Water vapor pressure (hPa)\")"
   ]
  },
  {
   "cell_type": "code",
   "execution_count": 97,
   "id": "59deeadc",
   "metadata": {
    "collapsed": false,
    "jupyter": {
     "outputs_hidden": false
    },
    "ExecuteTime": {
     "end_time": "2023-09-12T12:54:15.104608500Z",
     "start_time": "2023-09-12T12:54:15.092562400Z"
    }
   },
   "outputs": [
    {
     "name": "stdout",
     "output_type": "stream",
     "text": [
      "    Day  Inflow(cm)\n",
      "0     1        0.18\n",
      "1     2        0.29\n",
      "2     3        0.70\n",
      "3     4        0.29\n",
      "4     5        1.06\n",
      "..  ...         ...\n",
      "65   66        0.00\n",
      "66   67        0.00\n",
      "67   68        0.00\n",
      "68   69        0.00\n",
      "69   70        0.00\n",
      "\n",
      "[70 rows x 2 columns]\n",
      "    Day  Outflow(cm)\n",
      "0     1     2.159878\n",
      "1     2     2.112446\n",
      "2     3     3.235753\n",
      "3     4     3.258568\n",
      "4     5     1.793129\n",
      "..  ...          ...\n",
      "65   66     1.611672\n",
      "66   67     1.988087\n",
      "67   68     1.679822\n",
      "68   69     3.168423\n",
      "69   70     3.271467\n",
      "\n",
      "[70 rows x 2 columns]\n",
      "    Day  Air temp (°C)\n",
      "0     1         284.05\n",
      "1     2         285.85\n",
      "2     3         284.15\n",
      "3     4         282.75\n",
      "4     5         279.85\n",
      "..  ...            ...\n",
      "65   66         286.15\n",
      "66   67         288.35\n",
      "67   68         290.45\n",
      "68   69         286.95\n",
      "69   70         286.95\n",
      "\n",
      "[70 rows x 2 columns]\n"
     ]
    }
   ],
   "source": [
    "inflow_data = inflow_data[:days]\n",
    "print(inflow_data)\n",
    "outflow_data = outflow_data[:days]\n",
    "print(outflow_data)\n",
    "globrad_data = globrad_data[:days]\n",
    "T_L_data = T_L_data[:days]\n",
    "mu_data = mu_data[:days]\n",
    "E_w_data = E_w_data[:days]\n",
    "e_L_data = e_L_data[:days]\n",
    "print(T_L_data)"
   ]
  },
  {
   "cell_type": "markdown",
   "id": "dcf15f4a",
   "metadata": {},
   "source": [
    "Initialize a flag to track if the water level has dropped to zero"
   ]
  },
  {
   "cell_type": "code",
   "execution_count": 98,
   "id": "4b6ca0e1",
   "metadata": {
    "ExecuteTime": {
     "end_time": "2023-09-12T12:54:15.150180600Z",
     "start_time": "2023-09-12T12:54:15.105713100Z"
    }
   },
   "outputs": [],
   "source": [
    "water_level_zero = False"
   ]
  },
  {
   "cell_type": "markdown",
   "id": "0d806c32",
   "metadata": {},
   "source": [
    "Loop through each day and calculate the water level and temperature"
   ]
  },
  {
   "cell_type": "code",
   "execution_count": 99,
   "id": "b3785022",
   "metadata": {
    "ExecuteTime": {
     "end_time": "2023-09-12T12:54:15.199281200Z",
     "start_time": "2023-09-12T12:54:15.127778400Z"
    }
   },
   "outputs": [
    {
     "name": "stdout",
     "output_type": "stream",
     "text": [
      "288.25227057563967\n",
      "288.32097798947643\n",
      "288.41340939712813\n",
      "288.5468566001721\n",
      "288.6625150084537\n",
      "288.7625191082811\n",
      "288.88182981178545\n",
      "288.972327404061\n",
      "289.0567820410746\n",
      "289.16684755359165\n",
      "289.2831547048361\n",
      "289.42497758642406\n",
      "289.5562526507208\n",
      "289.616098320754\n",
      "289.6520481126599\n",
      "289.80653519133784\n",
      "289.9247617197422\n",
      "289.97279675440825\n",
      "290.01296977987676\n",
      "290.1729329421598\n",
      "290.308216017144\n",
      "290.48331584476136\n",
      "290.6515213017512\n",
      "290.72317568971505\n",
      "290.8480897130707\n",
      "290.9832817370392\n",
      "291.08660612778493\n",
      "291.3141707100068\n",
      "291.51291614043504\n",
      "291.8079603647857\n",
      "291.9086217119058\n",
      "292.0215817802493\n",
      "292.1627586828908\n",
      "292.4646276410429\n",
      "292.65480984718397\n",
      "292.8457148755374\n",
      "293.0111143447828\n",
      "293.2438469092819\n",
      "293.4231326498242\n",
      "293.4807069804286\n",
      "293.5603491807013\n",
      "293.7326164339617\n",
      "293.8941389284289\n",
      "294.0780628275122\n",
      "294.23091323454764\n",
      "294.23943854725724\n",
      "294.3523533359062\n",
      "294.31697981410844\n",
      "294.59688472903247\n",
      "294.8682575076736\n",
      "295.11624496777307\n",
      "295.3051721021014\n",
      "295.4090643331981\n",
      "295.50914370850586\n",
      "295.86214875050575\n",
      "296.4126410094786\n",
      "296.71218182435643\n",
      "297.1556634312933\n",
      "297.58656249560164\n",
      "298.5255939119719\n",
      "298.7893261403523\n",
      "299.0423351564898\n",
      "301.0448235533117\n",
      "304.1438756334055\n",
      "309.13516939958413\n",
      "Water level has dropped to 0 on day 66!\n",
      "334.08753997829695\n",
      "inf\n",
      "inf\n",
      "inf\n"
     ]
    },
    {
     "name": "stderr",
     "output_type": "stream",
     "text": [
      "C:\\Users\\thomv\\AppData\\Local\\Temp\\ipykernel_17948\\743370366.py:26: RuntimeWarning: divide by zero encountered in scalar divide\n",
      "  Temp_today = t_w[day - 1] - (Q_star - Q_E - Q_H) / (rho_w * C_w * z_w[day - 1])\n"
     ]
    }
   ],
   "source": [
    "for day in range(1, days):\n",
    "    # Get the inflow, outflow, solar radiation, and outside temperature for the current day\n",
    "    inflow = inflow_data.loc[inflow_data['Day'] == day, 'Inflow(cm)'].values[0]\n",
    "    outflow = outflow_data.loc[outflow_data['Day'] == day, 'Outflow(cm)'].values[0]\n",
    "    globrad = globrad_data.loc[globrad_data['Day'] == day, 'Global radiation (J/cm^2*h)'].values[0]\n",
    "    T_L = T_L_data.loc[T_L_data['Day'] == day, 'Air temp (°C)'].values[0]\n",
    "    mu = mu_data.loc[mu_data['Day'] == day, 'Wind velocity (m/s)'].values[0]\n",
    "    E_w = E_w_data.loc[E_w_data['Day'] == day, 'Saturation water vapor pressure (hPa)'].values[0]\n",
    "    e_L = e_L_data.loc[e_L_data['Day'] == day, 'Water vapor pressure (hPa)'].values[0]\n",
    "\n",
    "    # Calculate the change in water level based on the inflow and outflow\n",
    "    water_level_change = (inflow - outflow)\n",
    "    # Calculate the new water level\n",
    "    water_depth = z_w[day - 1] + water_level_change\n",
    "\n",
    "    K_short_wave = 0.85 * globrad\n",
    "    L_up = epsilon * 2.06e-8 * (t_w[day - 1]) ** 4\n",
    "    L_down = 2.06e-8 * (0.83 - 0.25 * 10 ** (-0.08 * e_L)) * T_L ** 4\n",
    "    Q_star = K_short_wave - L_up + L_down\n",
    "\n",
    "    eth_L = 2.05 * mu ** 0.65\n",
    "    Q_E = 1.52 * eth_L * (E_w - e_L)\n",
    "    Q_H = eth_L * (t_w[day - 1] - T_L)\n",
    "\n",
    "    # Calculate current temperature at each day\n",
    "    Temp_today = t_w[day - 1] - (Q_star - Q_E - Q_H) / (rho_w * C_w * z_w[day - 1])\n",
    "\n",
    "    # If the water level has dropped to zero, print a message and set the flag to True\n",
    "    if water_depth < 0:\n",
    "        if not water_level_zero:\n",
    "            print(f\"Water level has dropped to 0 on day {day}!\")\n",
    "            water_level_zero = True\n",
    "        water_depth = 0\n",
    "\n",
    "    # Add the new water level and temperature to the arrays\n",
    "    z_w[day] = water_depth\n",
    "    t_w[day] = Temp_today\n",
    "    t_w_C[day] = Temp_today - kelvin\n",
    "    print(Temp_today)"
   ]
  },
  {
   "cell_type": "markdown",
   "id": "62279ab9",
   "metadata": {},
   "source": [
    "Print the final water volume, water level, and water temperature"
   ]
  },
  {
   "cell_type": "code",
   "execution_count": 100,
   "id": "95d23e8b",
   "metadata": {
    "ExecuteTime": {
     "end_time": "2023-09-12T12:54:15.214940500Z",
     "start_time": "2023-09-12T12:54:15.200281Z"
    }
   },
   "outputs": [
    {
     "name": "stdout",
     "output_type": "stream",
     "text": [
      "Total water amount in the basin after 70 days: 0.00m^3\n",
      "Water level after 70 days: 0.00cm\n",
      "Water temperature after 70 days: inf℃\n"
     ]
    }
   ],
   "source": [
    "print(f\"Total water amount in the basin after {days} days: {z_w[-1] * basin_surface_area:.2f}m^3\")\n",
    "print(f\"Water level after {days} days: {z_w[-1] :.2f}cm\")\n",
    "print(f\"Water temperature after {days} days: {t_w[-1] :.2f}\\u2103\")"
   ]
  },
  {
   "cell_type": "markdown",
   "id": "02e21a49",
   "metadata": {},
   "source": [
    "Define a function to plot the data"
   ]
  },
  {
   "cell_type": "code",
   "execution_count": 101,
   "id": "1288af46",
   "metadata": {
    "ExecuteTime": {
     "end_time": "2023-09-12T12:54:15.259397700Z",
     "start_time": "2023-09-12T12:54:15.218028600Z"
    }
   },
   "outputs": [],
   "source": [
    "def plot_data(data, ylabel, title):\n",
    "    plt.plot(range(days), data)\n",
    "    plt.xlabel(\"Days\")\n",
    "    plt.ylabel(ylabel)\n",
    "    plt.title(title)\n",
    "    plt.show()"
   ]
  },
  {
   "cell_type": "markdown",
   "id": "6da7ceae",
   "metadata": {},
   "source": [
    "Plot the water level and temperature over time"
   ]
  },
  {
   "cell_type": "code",
   "execution_count": 102,
   "id": "5f24ec0f",
   "metadata": {
    "scrolled": true,
    "ExecuteTime": {
     "end_time": "2023-09-12T12:54:15.478375200Z",
     "start_time": "2023-09-12T12:54:15.232371300Z"
    }
   },
   "outputs": [
    {
     "data": {
      "text/plain": "<Figure size 640x480 with 1 Axes>",
      "image/png": "[encoded data removed]"
     },
     "metadata": {},
     "output_type": "display_data"
    },
    {
     "data": {
      "text/plain": "<Figure size 640x480 with 1 Axes>",
      "image/png": "[encoded data removed]"
     },
     "metadata": {},
     "output_type": "display_data"
    }
   ],
   "source": [
    "plot_data(z_w, \"Water level (cm)\", \"Water level in basin over time\")\n",
    "plot_data(t_w, \"Water temperature (°C)\", \"Water temperature in basin over time\")"
   ]
  },
  {
   "cell_type": "markdown",
   "id": "42d5a357",
   "metadata": {},
   "source": [
    "Create a DataFrame with the output data"
   ]
  },
  {
   "cell_type": "code",
   "execution_count": 103,
   "id": "97cf63ff",
   "metadata": {
    "collapsed": false,
    "jupyter": {
     "outputs_hidden": false
    },
    "ExecuteTime": {
     "end_time": "2023-09-12T12:54:15.530637Z",
     "start_time": "2023-09-12T12:54:15.480383700Z"
    }
   },
   "outputs": [],
   "source": [
    "output_data = pd.DataFrame({\"Day\": range(1, days + 1),\n",
    "                            \"Temperature (°C)\": t_w,\n",
    "                            \"Water Level (cm)\": z_w,\n",
    "                            \"Water amount (L)\": z_w * basin_surface_area})"
   ]
  },
  {
   "cell_type": "markdown",
   "id": "b5271259",
   "metadata": {},
   "source": [
    "Save the DataFrame as a CSV file"
   ]
  },
  {
   "cell_type": "code",
   "execution_count": 104,
   "id": "8613f32b",
   "metadata": {
    "collapsed": false,
    "jupyter": {
     "outputs_hidden": false
    },
    "ExecuteTime": {
     "end_time": "2023-09-12T12:54:15.530637Z",
     "start_time": "2023-09-12T12:54:15.496030Z"
    }
   },
   "outputs": [],
   "source": [
    "output_data.to_csv(\"scenario_floodplain.csv\", index=False)"
   ]
  }
 ],
 "metadata": {
  "jupytext": {
   "cell_metadata_filter": "-all",
   "main_language": "python",
   "notebook_metadata_filter": "-all"
  },
  "kernelspec": {
   "display_name": "Python 3 (ipykernel)",
   "language": "python",
   "name": "python3"
  },
  "language_info": {
   "codemirror_mode": {
    "name": "ipython",
    "version": 3
   },
   "file_extension": ".py",
   "mimetype": "text/x-python",
   "name": "python",
   "nbconvert_exporter": "python",
   "pygments_lexer": "ipython3",
   "version": "3.9.13"
  }
 },
 "nbformat": 4,
 "nbformat_minor": 5
}
